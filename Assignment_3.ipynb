{
 "cells": [
  {
   "cell_type": "raw",
   "id": "be5a0895-73e1-439c-bf58-6ff009daffd6",
   "metadata": {},
   "source": [
    "1. Why are functions advantageous to have in your programs?"
   ]
  },
  {
   "cell_type": "raw",
   "id": "2af6ddd1-911b-447f-ae48-b3c2b93053a6",
   "metadata": {},
   "source": [
    "Functions in Python offer several advantages that contribute to better code organization, readability, and maintainability.functions play a crucial role in Python programming by improving code structure, readability, and maintainability."
   ]
  },
  {
   "cell_type": "raw",
   "id": "d20dc992-0c2c-4c9a-9258-3a655554f521",
   "metadata": {},
   "source": [
    "2. When does the code in a function run: when it&#39;s specified or when it&#39;s called?"
   ]
  },
  {
   "cell_type": "raw",
   "id": "67f6b332-eb90-41dd-acd5-c522cf32701d",
   "metadata": {},
   "source": [
    "The code in a function runs when the function is called, not when it is specified. The definition of a function (where you write the code for the function) only provides the instructions for what the function should do when called."
   ]
  },
  {
   "cell_type": "raw",
   "id": "b6335793-e355-492c-84fe-0651cfb7ad69",
   "metadata": {},
   "source": [
    "3. What statement creates a function?"
   ]
  },
  {
   "cell_type": "raw",
   "id": "3ef77707-5f47-4642-8a91-9f9a483e1bec",
   "metadata": {},
   "source": [
    "In Python, the def statement is used to create a function. The def keyword is followed by the function name, a pair of parentheses, and a colon. The body of the function, where you write the code that the function will execute, is indented below the def statement."
   ]
  },
  {
   "cell_type": "raw",
   "id": "64b48116-addb-4c87-b077-3697629b28dc",
   "metadata": {},
   "source": [
    "4. What is the difference between a function and a function call?"
   ]
  },
  {
   "cell_type": "raw",
   "id": "ea150896-de32-4c1b-89b4-863a1eaff69b",
   "metadata": {},
   "source": [
    "A function is a defined block of code with a specific name and functionality, while a function call is the actual invocation or execution of that function, providing any necessary arguments. Functions are defined once and can be called multiple times throughout a program. The distinction is important for understanding how code is organized and how different parts of a program interact with each other."
   ]
  },
  {
   "cell_type": "raw",
   "id": "0a6a98c2-4310-4ce3-ab28-ab140a27a6a9",
   "metadata": {},
   "source": [
    "5. How many global scopes are there in a Python program? How many local scopes?"
   ]
  },
  {
   "cell_type": "raw",
   "id": "fa9c80f7-45d3-49c7-8371-9a35299f6c73",
   "metadata": {},
   "source": [
    "In a Python program, there is typically one global scope and multiple local scopes.\n",
    "The global scope is the outermost level of the program and includes variables and functions defined at the top level of the script or module.\n",
    "Local scopes are created whenever a function is called. Each function call has its own local scope, which includes variables and parameters specific to that function. Variables defined in a local scope are only accessible within that scope.\n",
    "Python program has one global scope that encompasses the entire program and multiple local scopes, each associated with a specific function call. Local scopes are temporary and are created when a function is called, and they are destroyed when the function completes execution. This separation of scopes helps manage variable names and avoids conflicts between different parts of the program."
   ]
  },
  {
   "cell_type": "raw",
   "id": "d248096b-ff09-4403-bcda-1d60ca329c44",
   "metadata": {},
   "source": [
    "6. What happens to variables in a local scope when the function call returns?"
   ]
  },
  {
   "cell_type": "raw",
   "id": "82758f16-4a73-427a-a0e8-590e331dda9c",
   "metadata": {},
   "source": [
    "When a function call returns in Python, the local scope associated with that function is destroyed, and any variables defined within that local scope cease to exist. "
   ]
  },
  {
   "cell_type": "raw",
   "id": "f51cb5ba-bc03-41b1-82a3-bbc5547a50d4",
   "metadata": {},
   "source": [
    "7. What is the concept of a return value? Is it possible to have a return value in an expression?"
   ]
  },
  {
   "cell_type": "raw",
   "id": "bb7d6aaf-da34-4cf9-a073-eb8e398aeafc",
   "metadata": {},
   "source": [
    "The concept of a return value in programming refers to the value that a function produces or \"returns\" when it is called. In many programming languages, including Python, functions can return a value to the code that called them. This returned value can be used in expressions, assigned to variables, or otherwise utilized in the program.\n",
    "Regarding having a return value in an expression, yes, it is possible. You can use the return value of a function directly in an expression."
   ]
  },
  {
   "cell_type": "raw",
   "id": "e84a08a3-8e81-45ae-a96c-2efc8ee6b801",
   "metadata": {},
   "source": [
    "8. If a function does not have a return statement, what is the return value of a call to that function?"
   ]
  },
  {
   "cell_type": "raw",
   "id": "99f149e9-bfd9-4d45-987d-1dd22855d216",
   "metadata": {},
   "source": [
    "If a function in Python does not have a return statement, or if it ends without encountering a return statement, the function implicitly returns a special value called None. None is a built-in constant in Python that represents the absence of a value or a null value."
   ]
  },
  {
   "cell_type": "raw",
   "id": "4241402e-0a8e-4301-825a-233442822536",
   "metadata": {},
   "source": [
    "9. How do you make a function variable refer to the global variable?"
   ]
  },
  {
   "cell_type": "raw",
   "id": "57751480-5173-41d7-81ae-f28d06f9c5a7",
   "metadata": {},
   "source": [
    "In Python, if we want to make a function variable refer to the global variable you can use the global keyword within the function. The \"global\" keyword informs the interpreter that the variable should be treated as a global variable, even if there is a local variable with the same name. This way, the function will use the global variable instead of creating a new local one."
   ]
  },
  {
   "cell_type": "raw",
   "id": "e7124700-7590-42ad-8122-8426510e5e36",
   "metadata": {},
   "source": [
    "10. What is the data type of None?"
   ]
  },
  {
   "cell_type": "raw",
   "id": "ed2eefb1-b7f6-4e58-9010-057cf3165ffb",
   "metadata": {},
   "source": [
    " It is a built-in object of the NoneType data type. The NoneType is the type of the None object."
   ]
  },
  {
   "cell_type": "raw",
   "id": "ec24e626-b227-40b8-945d-1eac8e45fdb0",
   "metadata": {},
   "source": [
    "11. What does the sentence import areallyourpetsnamederic do?"
   ]
  },
  {
   "cell_type": "raw",
   "id": "74e90139-8992-42a9-8b47-70a16231b466",
   "metadata": {},
   "source": [
    "The sentence \"import areallyourpetsnamederic\" is not a valid Python import statement, and attempting to execute it as such would result in a ModuleNotFoundError.No module named 'areallyourpetsnamederic'"
   ]
  },
  {
   "cell_type": "code",
   "execution_count": 1,
   "id": "a4e7e372-1204-43f9-b02a-c826e6233612",
   "metadata": {},
   "outputs": [
    {
     "ename": "ModuleNotFoundError",
     "evalue": "No module named 'areallyourpetsnamederic'",
     "output_type": "error",
     "traceback": [
      "\u001b[0;31m---------------------------------------------------------------------------\u001b[0m",
      "\u001b[0;31mModuleNotFoundError\u001b[0m                       Traceback (most recent call last)",
      "Cell \u001b[0;32mIn [1], line 1\u001b[0m\n\u001b[0;32m----> 1\u001b[0m \u001b[38;5;28;01mimport\u001b[39;00m \u001b[38;5;21;01mareallyourpetsnamederic\u001b[39;00m\n",
      "\u001b[0;31mModuleNotFoundError\u001b[0m: No module named 'areallyourpetsnamederic'"
     ]
    }
   ],
   "source": [
    "import areallyourpetsnamederic"
   ]
  },
  {
   "cell_type": "raw",
   "id": "21f0b816-d208-4e2b-b634-ce6da782a4fd",
   "metadata": {},
   "source": [
    "12. If you had a bacon() feature in a spam module, what would you call it after importing spam?"
   ]
  },
  {
   "cell_type": "raw",
   "id": "7e7e7140-ddc1-4df4-a74a-81cdd1810c3a",
   "metadata": {},
   "source": [
    "If we have a function named bacon() in a module named spam and want to call it after importing the spam module, we would use the following syntax:\n",
    "import spam\n",
    "\n",
    "spam.bacon()"
   ]
  },
  {
   "cell_type": "raw",
   "id": "11be1ea8-5a8e-4a9c-b864-3ce8f73aec5f",
   "metadata": {},
   "source": [
    "13. What can you do to save a programme from crashing if it encounters an error?"
   ]
  },
  {
   "cell_type": "raw",
   "id": "3e27d38f-078d-4f3c-a060-271ee15e7af9",
   "metadata": {},
   "source": [
    "To prevent a Python program from crashing when it encounters an error, we can use error handling techniques to gracefully handle exceptions. The try, except block is commonly used for this purpose. This allows us to catch and handle exceptions, preventing them from causing the program to terminate abruptly."
   ]
  },
  {
   "cell_type": "raw",
   "id": "7f123749-710f-4776-9738-83896d54d979",
   "metadata": {},
   "source": [
    "14. What is the purpose of the try clause? What is the purpose of the except clause?"
   ]
  },
  {
   "cell_type": "raw",
   "id": "3530ff23-6d09-4015-a0b3-dc999f790f44",
   "metadata": {},
   "source": [
    "The try and except clauses in Python are used for error handling. They allow you to handle exceptions and prevent the program from crashing when it encounters errors. The combination of try and except allows to gracefully handle errors, providing a mechanism for recovery or logging information about the error without causing the program to crash."
   ]
  }
 ],
 "metadata": {
  "kernelspec": {
   "display_name": "Python 3 (ipykernel)",
   "language": "python",
   "name": "python3"
  },
  "language_info": {
   "codemirror_mode": {
    "name": "ipython",
    "version": 3
   },
   "file_extension": ".py",
   "mimetype": "text/x-python",
   "name": "python",
   "nbconvert_exporter": "python",
   "pygments_lexer": "ipython3",
   "version": "3.10.6"
  }
 },
 "nbformat": 4,
 "nbformat_minor": 5
}
